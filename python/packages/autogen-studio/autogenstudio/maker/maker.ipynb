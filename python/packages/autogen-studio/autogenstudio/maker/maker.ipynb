{
 "cells": [
  {
   "cell_type": "code",
   "execution_count": 1,
   "metadata": {},
   "outputs": [
    {
     "name": "stderr",
     "output_type": "stream",
     "text": [
      "/Users/victordibia/projects/hax/autogen/python/packages/autogen-ext/src/autogen_ext/models/openai/_openai_client.py:594: DeprecationWarning: Using response_format to specify the BaseModel for structured output type will be deprecated. Use json_output in create and create_stream instead.\n",
      "  create_params = self._process_create_args(\n"
     ]
    }
   ],
   "source": [
    "\n",
    "from autogenstudio.maker.tool import ToolMaker\n",
    "\n",
    "# Create a tool maker (uses default GPT-4o)\n",
    "maker = ToolMaker()\n",
    "\n",
    "# Generate a simple calculator tool\n",
    "tool = await maker.generate_tool(\n",
    "    \"a tool that can take a website url and return the html content\"\n",
    ")\n",
    "\n",
    "# tool.dump_component()"
   ]
  },
  {
   "cell_type": "markdown",
   "metadata": {},
   "source": []
  },
  {
   "cell_type": "code",
   "execution_count": 2,
   "metadata": {},
   "outputs": [
    {
     "data": {
      "text/plain": [
       "{'provider': 'autogen_core.tools.FunctionTool',\n",
       " 'component_type': 'tool',\n",
       " 'version': 1,\n",
       " 'component_version': 1,\n",
       " 'description': 'A tool that takes a website URL and returns the HTML content of the page',\n",
       " 'label': 'fetch_html_content',\n",
       " 'config': {'source_code': 'def fetch_html_content(url: str) -> str:\\n    try:\\n        response = requests.get(url)\\n        response.raise_for_status()  # Raise an error for bad responses\\n        return response.text\\n    except requests.RequestException as e:\\n        return f\"Error: {str(e)}\"',\n",
       "  'name': 'fetch_html_content',\n",
       "  'description': 'A tool that takes a website URL and returns the HTML content of the page',\n",
       "  'global_imports': [{'module': 'requests',\n",
       "    'imports': ('get', 'RequestException')}],\n",
       "  'has_cancellation_support': False}}"
      ]
     },
     "execution_count": 2,
     "metadata": {},
     "output_type": "execute_result"
    }
   ],
   "source": [
    "tool.model_dump()"
   ]
  },
  {
   "cell_type": "code",
   "execution_count": null,
   "metadata": {},
   "outputs": [],
   "source": []
  }
 ],
 "metadata": {
  "kernelspec": {
   "display_name": ".venv",
   "language": "python",
   "name": "python3"
  },
  "language_info": {
   "codemirror_mode": {
    "name": "ipython",
    "version": 3
   },
   "file_extension": ".py",
   "mimetype": "text/x-python",
   "name": "python",
   "nbconvert_exporter": "python",
   "pygments_lexer": "ipython3",
   "version": "3.11.12"
  }
 },
 "nbformat": 4,
 "nbformat_minor": 2
}
