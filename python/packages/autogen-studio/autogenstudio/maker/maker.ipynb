{
 "cells": [
  {
   "cell_type": "code",
   "execution_count": 1,
   "metadata": {},
   "outputs": [
    {
     "name": "stdout",
     "output_type": "stream",
     "text": [
      "/Users/victordibia/projects/hax/autogen/python/.venv/bin/python\n"
     ]
    }
   ],
   "source": [
    "!which python"
   ]
  },
  {
   "cell_type": "code",
   "execution_count": 2,
   "metadata": {},
   "outputs": [
    {
     "name": "stderr",
     "output_type": "stream",
     "text": [
      "/Users/victordibia/projects/hax/autogen/python/packages/autogen-ext/src/autogen_ext/models/openai/_openai_client.py:594: DeprecationWarning: Using response_format to specify the BaseModel for structured output type will be deprecated. Use json_output in create and create_stream instead.\n",
      "  create_params = self._process_create_args(\n"
     ]
    }
   ],
   "source": [
    "\n",
    "from autogenstudio.maker.tool import ToolMaker\n",
    "\n",
    "# Create a tool maker (uses default GPT-4o)\n",
    "maker = ToolMaker()\n",
    "\n",
    "# Generate a simple calculator tool\n",
    "tool = await maker.generate_tool(\n",
    "    \"a tool that can take a website url and return the html content\"\n",
    ")\n",
    "\n",
    "# tool.dump_component()"
   ]
  },
  {
   "cell_type": "markdown",
   "metadata": {},
   "source": []
  },
  {
   "cell_type": "code",
   "execution_count": 8,
   "metadata": {},
   "outputs": [
    {
     "name": "stdout",
     "output_type": "stream",
     "text": [
      "{'source_code': 'def fetch_html_content(url: str) -> str:\\n    \"\"\"\\n    Fetch the HTML content of a webpage given its URL.\\n    \\n    Parameters:\\n        url (str): The URL of the webpage.\\n\\n    Returns:\\n        str: The HTML content of the webpage.\\n    \\n    Raises:\\n        ValueError: If the URL is not valid or the content cannot be fetched.\\n    \"\"\"\\n    try:\\n        response = requests.get(url)\\n        response.raise_for_status()\\n        return response.text\\n    except requests.exceptions.RequestException as e:\\n        raise ValueError(f\"Error fetching the URL: {e}\")', 'name': 'fetch_html_content', 'description': 'Fetch the HTML content of a webpage given its URL.', 'global_imports': [{'module': 'requests', 'imports': ()}], 'has_cancellation_support': False}\n"
     ]
    }
   ],
   "source": [
    "print(tool.config)"
   ]
  },
  {
   "cell_type": "code",
   "execution_count": null,
   "metadata": {},
   "outputs": [],
   "source": []
  }
 ],
 "metadata": {
  "kernelspec": {
   "display_name": ".venv",
   "language": "python",
   "name": "python3"
  },
  "language_info": {
   "codemirror_mode": {
    "name": "ipython",
    "version": 3
   },
   "file_extension": ".py",
   "mimetype": "text/x-python",
   "name": "python",
   "nbconvert_exporter": "python",
   "pygments_lexer": "ipython3",
   "version": "3.11.12"
  }
 },
 "nbformat": 4,
 "nbformat_minor": 2
}
